{
 "cells": [
  {
   "cell_type": "markdown",
   "id": "c639ed58",
   "metadata": {},
   "source": [
    "# Test"
   ]
  },
  {
   "cell_type": "code",
   "execution_count": 1,
   "id": "d7185663",
   "metadata": {},
   "outputs": [
    {
     "data": {
      "text/html": [
       "<div id=\"glowscript\" class=\"glowscript\"></div>"
      ],
      "text/plain": [
       "<IPython.core.display.HTML object>"
      ]
     },
     "metadata": {},
     "output_type": "display_data"
    },
    {
     "data": {
      "application/javascript": [
       "if (typeof Jupyter !== \"undefined\") { window.__context = { glowscript_container: $(\"#glowscript\").removeAttr(\"id\")};}else{ element.textContent = ' ';}"
      ],
      "text/plain": [
       "<IPython.core.display.Javascript object>"
      ]
     },
     "metadata": {},
     "output_type": "display_data"
    }
   ],
   "source": [
    "from vpython import *"
   ]
  },
  {
   "cell_type": "markdown",
   "id": "30c0082e",
   "metadata": {},
   "source": [
    "### Ejemplo 1\n",
    "Este fue el ejemplo que se coficó en Spyder"
   ]
  },
  {
   "cell_type": "code",
   "execution_count": 2,
   "id": "f1ce19f6",
   "metadata": {},
   "outputs": [
    {
     "data": {
      "text/html": [
       "<div id=\"glowscript\" class=\"glowscript\"></div>"
      ],
      "text/plain": [
       "<IPython.core.display.HTML object>"
      ]
     },
     "metadata": {},
     "output_type": "display_data"
    },
    {
     "data": {
      "application/javascript": [
       "if (typeof Jupyter !== \"undefined\") { window.__context = { glowscript_container: $(\"#glowscript\").removeAttr(\"id\")};}else{ element.textContent = ' ';}"
      ],
      "text/plain": [
       "<IPython.core.display.Javascript object>"
      ]
     },
     "metadata": {},
     "output_type": "display_data"
    },
    {
     "data": {
      "application/javascript": [
       "if (typeof Jupyter !== \"undefined\") {require.undef(\"nbextensions/vpython_libraries/glow.min\");}else{element.textContent = ' ';}"
      ],
      "text/plain": [
       "<IPython.core.display.Javascript object>"
      ]
     },
     "metadata": {},
     "output_type": "display_data"
    },
    {
     "data": {
      "application/javascript": [
       "if (typeof Jupyter !== \"undefined\") {require.undef(\"nbextensions/vpython_libraries/glowcomm\");}else{element.textContent = ' ';}"
      ],
      "text/plain": [
       "<IPython.core.display.Javascript object>"
      ]
     },
     "metadata": {},
     "output_type": "display_data"
    },
    {
     "data": {
      "application/javascript": [
       "if (typeof Jupyter !== \"undefined\") {require.undef(\"nbextensions/vpython_libraries/jquery-ui.custom.min\");}else{element.textContent = ' ';}"
      ],
      "text/plain": [
       "<IPython.core.display.Javascript object>"
      ]
     },
     "metadata": {},
     "output_type": "display_data"
    },
    {
     "data": {
      "application/javascript": [
       "if (typeof Jupyter !== \"undefined\") {require([\"nbextensions/vpython_libraries/glow.min\"], function(){console.log(\"GLOW LOADED\");});}else{element.textContent = ' ';}"
      ],
      "text/plain": [
       "<IPython.core.display.Javascript object>"
      ]
     },
     "metadata": {},
     "output_type": "display_data"
    },
    {
     "data": {
      "application/javascript": [
       "if (typeof Jupyter !== \"undefined\") {require([\"nbextensions/vpython_libraries/glowcomm\"], function(){console.log(\"GLOWCOMM LOADED\");});}else{element.textContent = ' ';}"
      ],
      "text/plain": [
       "<IPython.core.display.Javascript object>"
      ]
     },
     "metadata": {},
     "output_type": "display_data"
    },
    {
     "data": {
      "application/javascript": [
       "if (typeof Jupyter !== \"undefined\") {require([\"nbextensions/vpython_libraries/jquery-ui.custom.min\"], function(){console.log(\"JQUERY LOADED\");});}else{element.textContent = ' ';}"
      ],
      "text/plain": [
       "<IPython.core.display.Javascript object>"
      ]
     },
     "metadata": {},
     "output_type": "display_data"
    }
   ],
   "source": [
    "canvas()\n",
    "redbox=box(pos=vector(4,2,3),size=vector(8,4,6),color=color.red)\n",
    "ball=sphere(pos=vector(4,7,3),radius=2,color=color.green)"
   ]
  },
  {
   "cell_type": "markdown",
   "id": "55df294c",
   "metadata": {},
   "source": [
    "### Ejemplo 2\n",
    "Este ejemplo fue tomado de los ejemplos de **glowscript** [lins](https://glowscript.org/#/user/GlowScriptDemos/folder/Examples/), mas exactamente el del **dipolo** ([link](https://glowscript.org/#/user/GlowScriptDemos/folder/Examples/program/DipoleElectricField/edit)) "
   ]
  },
  {
   "cell_type": "code",
   "execution_count": 7,
   "id": "8217c339",
   "metadata": {},
   "outputs": [
    {
     "data": {
      "text/html": [
       "<div id=\"glowscript\" class=\"glowscript\"></div>"
      ],
      "text/plain": [
       "<IPython.core.display.HTML object>"
      ]
     },
     "metadata": {},
     "output_type": "display_data"
    },
    {
     "data": {
      "application/javascript": [
       "if (typeof Jupyter !== \"undefined\") { window.__context = { glowscript_container: $(\"#glowscript\").removeAttr(\"id\")};}else{ element.textContent = ' ';}"
      ],
      "text/plain": [
       "<IPython.core.display.Javascript object>"
      ]
     },
     "metadata": {},
     "output_type": "display_data"
    }
   ],
   "source": [
    "scene = canvas()\n",
    "scale = 4e-14/1e17\n",
    "ec = 1.6e-19  # electron charge\n",
    "kel = 9e9     # Coulomb constant\n",
    "scene.range = 2e-13\n",
    "\n",
    "charges = [ sphere( pos=vector(-1e-13,0,0), Q=ec,  color=color.red,  size=1.2e-14*vector(1,1,1) ),\n",
    "            sphere( pos=vector( 1e-13,0,0), Q=-ec, color=color.blue, size=1.2e-14*vector(1,1,1) )]\n",
    "\n",
    "s = \"Click or drag to plot an electric field vector produced by the two charges.\\n\"\n",
    "s += \"On a touch screen, tap, or press and hold, then drag.\\n\"\n",
    "s += \"Arrows representing the field are bluer if low magnitude, redder if high.\"\n",
    "scene.caption = s\n",
    "\n",
    "def getfield(p):\n",
    "    f = vec(0,0,0)\n",
    "    for c in charges:\n",
    "        f = f + (p-c.pos) * kel * c.Q / mag(p-c.pos)**3\n",
    "    return f\n",
    "\n",
    "def mouse_to_field(a):\n",
    "    p = scene.mouse.pos\n",
    "    f = getfield(p)\n",
    "    m = mag(f)\n",
    "    red = max( 1-1e17/m, 0 )\n",
    "    blue = min(  1e17/m, 1 )\n",
    "    if red >= blue:\n",
    "        blue = blue/red\n",
    "        red = 1.0\n",
    "    else:\n",
    "        red = red/blue\n",
    "        blue = 1.0\n",
    "    a.pos = p\n",
    "    a.axis = scale*f\n",
    "    a.color = vector(red,0,blue)\n",
    "\n",
    "drag = False\n",
    "a = None\n",
    "\n",
    "def down(ev):\n",
    "    global a, drag\n",
    "    a = arrow(shaftwidth=6e-15)\n",
    "    mouse_to_field(a)\n",
    "    drag = True\n",
    "\n",
    "def move(ev):\n",
    "    global a, drag\n",
    "    if not drag: return\n",
    "    mouse_to_field(a)\n",
    "    \n",
    "def up(ev):\n",
    "    global a, drag\n",
    "    mouse_to_field(a)\n",
    "    drag = False\n",
    "\n",
    "scene.bind(\"mousedown\", down)\n",
    "\n",
    "scene.bind(\"mousemove\", move)\n",
    "\n",
    "scene.bind(\"mouseup\", up)\n"
   ]
  },
  {
   "cell_type": "code",
   "execution_count": null,
   "id": "9f0ad00a",
   "metadata": {},
   "outputs": [],
   "source": []
  }
 ],
 "metadata": {
  "kernelspec": {
   "display_name": "Python 3 (ipykernel)",
   "language": "python",
   "name": "python3"
  },
  "language_info": {
   "codemirror_mode": {
    "name": "ipython",
    "version": 3
   },
   "file_extension": ".py",
   "mimetype": "text/x-python",
   "name": "python",
   "nbconvert_exporter": "python",
   "pygments_lexer": "ipython3",
   "version": "3.9.13"
  }
 },
 "nbformat": 4,
 "nbformat_minor": 5
}
