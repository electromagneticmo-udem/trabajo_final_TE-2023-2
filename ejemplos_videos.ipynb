{
 "cells": [
  {
   "cell_type": "markdown",
   "id": "18e37092",
   "metadata": {},
   "source": [
    "# Ejemplos"
   ]
  },
  {
   "cell_type": "code",
   "execution_count": 13,
   "id": "b0ce1497",
   "metadata": {},
   "outputs": [],
   "source": [
    "from vpython import *"
   ]
  },
  {
   "cell_type": "markdown",
   "id": "f9dd0964",
   "metadata": {},
   "source": [
    "## Ejemplos videos\n",
    "\n",
    "Los siguientes ejemplos se codificaron siguiendo algunos de los videos mostrados en **Introductory Videos** ([link](https://www.glowscript.org/docs/VPythonDocs/videos.html)). \n",
    "\n",
    "**Nota**: No todos los códigos de los videos se encuentran."
   ]
  },
  {
   "cell_type": "markdown",
   "id": "a7a0bc65",
   "metadata": {},
   "source": [
    "### Ejemplos - Parte 1\n",
    "\n",
    "Los siguientes códigos se toman de los videos:\n",
    "* [Videos Instructivos VPython: 1. Objetos 3D](https://www.youtube.com/watch?v=dWYL2Kj3ND0)\n",
    "* [Videos Instructivos VPython: 2. Asignación de Variables](https://www.youtube.com/watch?v=OStBL7GRang)"
   ]
  },
  {
   "cell_type": "code",
   "execution_count": 5,
   "id": "42c6248f",
   "metadata": {},
   "outputs": [
    {
     "data": {
      "text/html": [
       "<div id=\"glowscript\" class=\"glowscript\"></div>"
      ],
      "text/plain": [
       "<IPython.core.display.HTML object>"
      ]
     },
     "metadata": {},
     "output_type": "display_data"
    },
    {
     "data": {
      "application/javascript": [
       "if (typeof Jupyter !== \"undefined\") { window.__context = { glowscript_container: $(\"#glowscript\").removeAttr(\"id\")};}else{ element.textContent = ' ';}"
      ],
      "text/plain": [
       "<IPython.core.display.Javascript object>"
      ]
     },
     "metadata": {},
     "output_type": "display_data"
    }
   ],
   "source": [
    "# Codigo 1-1\n",
    "canvas()\n",
    "bola1 = sphere(pos=vector(-1,0,0),radius = 0.25 ,color=color.red)\n",
    "bola2 = sphere(pos=vector(1,1,0),radius = 0.15 , color=color.orange)\n",
    "arrow(pos = bola1.pos,axis=vector(0,1,0), color = color.yellow)"
   ]
  },
  {
   "cell_type": "code",
   "execution_count": 6,
   "id": "e24a456f",
   "metadata": {},
   "outputs": [
    {
     "data": {
      "text/html": [
       "<div id=\"glowscript\" class=\"glowscript\"></div>"
      ],
      "text/plain": [
       "<IPython.core.display.HTML object>"
      ]
     },
     "metadata": {},
     "output_type": "display_data"
    },
    {
     "data": {
      "application/javascript": [
       "if (typeof Jupyter !== \"undefined\") { window.__context = { glowscript_container: $(\"#glowscript\").removeAttr(\"id\")};}else{ element.textContent = ' ';}"
      ],
      "text/plain": [
       "<IPython.core.display.Javascript object>"
      ]
     },
     "metadata": {},
     "output_type": "display_data"
    }
   ],
   "source": [
    "# Codigo 1-2\n",
    "canvas()\n",
    "bola1 = sphere(pos=vector(-1,0,0),radius = 0.25 ,color=color.red)\n",
    "bola2 = sphere(pos=vector(1,1,0),radius = 0.15 , color=color.orange)\n",
    "arrow(pos = bola1.pos,axis = bola2.pos- bola1.pos, color = color.yellow)"
   ]
  },
  {
   "cell_type": "markdown",
   "id": "11c835d6",
   "metadata": {},
   "source": [
    "### Ejemplos - Parte 2\n",
    "\n",
    "Los siguientes códigos se toman de los videos:\n",
    "* [Videos Instructivos VPython: 3. Comenzando con Bucles](https://www.youtube.com/watch?v=0lSS14aeAo4)"
   ]
  },
  {
   "cell_type": "code",
   "execution_count": 7,
   "id": "f4238b40",
   "metadata": {},
   "outputs": [
    {
     "data": {
      "text/html": [
       "<div id=\"glowscript\" class=\"glowscript\"></div>"
      ],
      "text/plain": [
       "<IPython.core.display.HTML object>"
      ]
     },
     "metadata": {},
     "output_type": "display_data"
    },
    {
     "data": {
      "application/javascript": [
       "if (typeof Jupyter !== \"undefined\") { window.__context = { glowscript_container: $(\"#glowscript\").removeAttr(\"id\")};}else{ element.textContent = ' ';}"
      ],
      "text/plain": [
       "<IPython.core.display.Javascript object>"
      ]
     },
     "metadata": {},
     "output_type": "display_data"
    },
    {
     "name": "stdout",
     "output_type": "stream",
     "text": [
      "1\n",
      "2\n",
      "3\n",
      "4\n",
      "5\n",
      "6\n",
      "7\n",
      "8\n",
      "9\n",
      "Fin del programa\n"
     ]
    }
   ],
   "source": [
    "canvas()\n",
    "n = 1\n",
    "while n < 10:\n",
    "    print(n)\n",
    "    n = n + 1\n",
    "\n",
    "print(\"Fin del programa\")"
   ]
  },
  {
   "cell_type": "markdown",
   "id": "d3e9d01e",
   "metadata": {},
   "source": [
    "### Ejemplos - Parte 3\n",
    "\n",
    "Los siguientes códigos se toman de los videos:\n",
    "* [Videos Instructivos VPython: 4. Bucles y Animación](https://www.youtube.com/watch?v=jyEagdhKt8Q)"
   ]
  },
  {
   "cell_type": "code",
   "execution_count": 8,
   "id": "cf20ec51",
   "metadata": {},
   "outputs": [
    {
     "data": {
      "text/html": [
       "<div id=\"glowscript\" class=\"glowscript\"></div>"
      ],
      "text/plain": [
       "<IPython.core.display.HTML object>"
      ]
     },
     "metadata": {},
     "output_type": "display_data"
    },
    {
     "data": {
      "application/javascript": [
       "if (typeof Jupyter !== \"undefined\") { window.__context = { glowscript_container: $(\"#glowscript\").removeAttr(\"id\")};}else{ element.textContent = ' ';}"
      ],
      "text/plain": [
       "<IPython.core.display.Javascript object>"
      ]
     },
     "metadata": {},
     "output_type": "display_data"
    },
    {
     "name": "stdout",
     "output_type": "stream",
     "text": [
      "Fin del programa\n"
     ]
    }
   ],
   "source": [
    "canvas()\n",
    "bola1 = sphere(pos=vector(0,0,0),radius = 0.5 ,color=color.green)\n",
    "bola2 = sphere(pos=vector(-3,4,0),radius = 0.5 , color=color.blue)\n",
    "pos_relativa = arrow(pos = vector(0,0,0),axis = bola2.pos - bola1.pos, color = color.orange)\n",
    "\n",
    "r = vector(-3,4,0)\n",
    "while r.x < 10:\n",
    "    # print(r.x)\n",
    "    rate(10) # 10 calculos por segundo\n",
    "    # sphere(pos = r, radius = 0.5, color = color.blue)\n",
    "    bola2.pos = r\n",
    "    pos_relativa.axis = bola2.pos - bola1.pos\n",
    "    r.x = r.x + 1\n",
    "\n",
    "print(\"Fin del programa\")    "
   ]
  },
  {
   "cell_type": "markdown",
   "id": "6d496b22",
   "metadata": {},
   "source": [
    "### Ejemplos - Parte 4\n",
    "\n",
    "Los siguientes códigos se toman de los videos:\n",
    "* [Videos Instructivos VPython: 5. Factores de Escala](https://www.youtube.com/watch?v=aJqDTpkiyVM)"
   ]
  },
  {
   "cell_type": "markdown",
   "id": "38744cf9",
   "metadata": {},
   "source": [
    "Inicialmente solo se muestran los objetos de la figura:"
   ]
  },
  {
   "cell_type": "code",
   "execution_count": 9,
   "id": "bfa04300",
   "metadata": {},
   "outputs": [
    {
     "data": {
      "text/html": [
       "<div id=\"glowscript\" class=\"glowscript\"></div>"
      ],
      "text/plain": [
       "<IPython.core.display.HTML object>"
      ]
     },
     "metadata": {},
     "output_type": "display_data"
    },
    {
     "data": {
      "application/javascript": [
       "if (typeof Jupyter !== \"undefined\") { window.__context = { glowscript_container: $(\"#glowscript\").removeAttr(\"id\")};}else{ element.textContent = ' ';}"
      ],
      "text/plain": [
       "<IPython.core.display.Javascript object>"
      ]
     },
     "metadata": {},
     "output_type": "display_data"
    }
   ],
   "source": [
    "# A continuación se muestran los objetos de la figura\n",
    "canvas()\n",
    "scene.width = 600\n",
    "scene.heigth = 600\n",
    "\n",
    "## Constantes\n",
    "k = 0.1       # Constante del resorte\n",
    "a = 1         # Dimensiones escalares de la caja\n",
    "L0 = 1.9      # Longitud natural del resorte\n",
    "m = 0.001\n",
    "g = 9.8\n",
    "\n",
    "# Objetos\n",
    "piso = box(length = 5, height = 0.1,width = 1, color=color.green)\n",
    "pared = box(pos=vector(0.05 - piso.length/2,0.5 + piso.height/2, 0), size = vector(0.1,1,1),color=color.green)\n",
    "masa = box(pos = vector(0,a/2 + piso.height/2, 0), size = vector(a,a,a),color=color.white, opacity = 0.5)\n",
    "resorte = spring = helix(pos=pared.pos + vector(pared.length/2,0,0),axis= masa.pos - pared.pos - vector(0.5,0,0), \n",
    "                         radius=0.3, thikness = 0.04, color = color.blue)"
   ]
  },
  {
   "cell_type": "markdown",
   "id": "d3767968",
   "metadata": {},
   "source": [
    "A continuación se muestra el ejemplo completo resaltando las fuerzas (**Diagrama de cuerpo libre**), este se toma del video mostrado:"
   ]
  },
  {
   "cell_type": "code",
   "execution_count": 10,
   "id": "2b22a133",
   "metadata": {},
   "outputs": [
    {
     "data": {
      "text/html": [
       "<div id=\"glowscript\" class=\"glowscript\"></div>"
      ],
      "text/plain": [
       "<IPython.core.display.HTML object>"
      ]
     },
     "metadata": {},
     "output_type": "display_data"
    },
    {
     "data": {
      "application/javascript": [
       "if (typeof Jupyter !== \"undefined\") { window.__context = { glowscript_container: $(\"#glowscript\").removeAttr(\"id\")};}else{ element.textContent = ' ';}"
      ],
      "text/plain": [
       "<IPython.core.display.Javascript object>"
      ]
     },
     "metadata": {},
     "output_type": "display_data"
    },
    {
     "name": "stdout",
     "output_type": "stream",
     "text": [
      "La fuerza del resorte es:  <-0.005, -0, -0>\n",
      "El peso es:  <0, -0.0098, 0>\n",
      "pared.pos - masa.pos:  <-2.45, 0, 0>\n"
     ]
    }
   ],
   "source": [
    "# Mediendole fisica - Diagrama de cuerpo libre\n",
    "canvas()\n",
    "scene.width = 600\n",
    "scene.heigth = 600\n",
    "\n",
    "## Constantes\n",
    "k = 0.1       # Constante del resorte\n",
    "a = 1         # Dimensiones escalares de la caja\n",
    "L0 = 1.9      # Longitud natural del resorte\n",
    "m = 0.001\n",
    "g = 9.8\n",
    "# FactorEscala = 500  # FactorEscala*Fresorte =  pared.pos - masa.pos (esto ultimo aprox)\n",
    "                      # FactorEscala = (pared.pos - masa.pos)/Fresorte = 2.5/0.005 = 500\n",
    "\n",
    "FactorEscala = 100    \n",
    "\n",
    "# Objetos\n",
    "piso = box(length = 5, height = 0.1,width = 1, color=color.green)\n",
    "pared = box(pos=vector(0.05 - piso.length/2,0.5 + piso.height/2, 0), size = vector(0.1,1,1),color=color.green)\n",
    "masa = box(pos = vector(0,a/2 + piso.height/2, 0), size = vector(a,a,a),color=color.white, opacity = 0.5)\n",
    "resorte = spring = helix(pos=pared.pos + vector(pared.length/2,0,0),axis= masa.pos - pared.pos - vector(0.5,0,0), \n",
    "                         radius=0.3, thikness = 0.04, color = color.blue)\n",
    "\n",
    "# Calculos\n",
    "L = resorte.axis\n",
    "s = mag(L) - L0\n",
    "L_versor = L/mag(L)\n",
    "Fresorte = -k*s*L_versor\n",
    "\n",
    "Fpeso = m*g*vector(0,-1,0)\n",
    "\n",
    "# Flecha Fuerza\n",
    "# Flecha_Fresorte = arrow(pos = masa.pos, axis = Fresorte, color = color.red)\n",
    "Flecha_Fresorte = arrow(pos = masa.pos, axis = FactorEscala*Fresorte, color = color.red)\n",
    "# Flecha_Fpeso = arrow(pos = masa.pos, axis = Fpeso, color = color.red)\n",
    "Flecha_Fpeso = arrow(pos = masa.pos, axis = FactorEscala*Fpeso, color = color.red)\n",
    "\n",
    "print(\"La fuerza del resorte es: \", Fresorte)\n",
    "print(\"El peso es: \", Fpeso)\n",
    "print(\"pared.pos - masa.pos: \", pared.pos - masa.pos)"
   ]
  },
  {
   "cell_type": "markdown",
   "id": "a33df675",
   "metadata": {},
   "source": [
    "Este es un ejemplo (incompleto) de los que se habla en el video citado"
   ]
  },
  {
   "cell_type": "code",
   "execution_count": 11,
   "id": "a6a53452",
   "metadata": {},
   "outputs": [
    {
     "data": {
      "text/html": [
       "<div id=\"glowscript\" class=\"glowscript\"></div>"
      ],
      "text/plain": [
       "<IPython.core.display.HTML object>"
      ]
     },
     "metadata": {},
     "output_type": "display_data"
    },
    {
     "data": {
      "application/javascript": [
       "if (typeof Jupyter !== \"undefined\") { window.__context = { glowscript_container: $(\"#glowscript\").removeAttr(\"id\")};}else{ element.textContent = ' ';}"
      ],
      "text/plain": [
       "<IPython.core.display.Javascript object>"
      ]
     },
     "metadata": {},
     "output_type": "display_data"
    },
    {
     "name": "stdout",
     "output_type": "stream",
     "text": [
      "La distancia entre las cargas es:  <2e-12, 0, 0>\n",
      "La fuerza electrica es:  <6.41601e-11, -0, -0>\n"
     ]
    }
   ],
   "source": [
    "# Fuerzas electricas\n",
    "\n",
    "canvas()\n",
    "scene.width = 600\n",
    "scene.heigth = 600\n",
    "\n",
    "# Constantes\n",
    "n = 100\n",
    "e = 1.602e-19\n",
    "q_a = n*e\n",
    "q_b = -q_a\n",
    "d = 1e-12\n",
    "FactorEscala = 0.01\n",
    "\n",
    "# Objetos (cargas)\n",
    "a = sphere(pos=vector(-d,0,0),radius = 0.05*d ,color=color.red)\n",
    "b = sphere(pos=vector(d,0,0),radius = 0.05*d , color=color.green)\n",
    "\n",
    "# Calculos\n",
    "r = a.pos - b.pos                        # Vector r\n",
    "r_mag = sqrt(r.x**2 + r.y**2 + r.z**2)   # Magnitud r\n",
    "r_versor = r/r_mag                       # Versor r\n",
    "F_elec = r_versor*q_a*q_b/r_mag**2\n",
    "\n",
    "print(\"La distancia entre las cargas es: \", b.pos - a.pos)\n",
    "print(\"La fuerza electrica es: \", F_elec)\n",
    "\n",
    "F_elec_flecha = arrow(pos = a.pos, axis = FactorEscala*F_elec, color = color.yellow)"
   ]
  },
  {
   "cell_type": "markdown",
   "id": "5f388339",
   "metadata": {},
   "source": [
    "## Otros ejemplos"
   ]
  },
  {
   "cell_type": "markdown",
   "id": "731ff2f0",
   "metadata": {},
   "source": [
    "**Ejemplo 1**: Muestra una particula a una velocidad constante atravezando un cubo rojo."
   ]
  },
  {
   "cell_type": "code",
   "execution_count": 16,
   "id": "4046fc9c",
   "metadata": {},
   "outputs": [
    {
     "data": {
      "text/html": [
       "<div id=\"glowscript\" class=\"glowscript\"></div>"
      ],
      "text/plain": [
       "<IPython.core.display.HTML object>"
      ]
     },
     "metadata": {},
     "output_type": "display_data"
    },
    {
     "data": {
      "application/javascript": [
       "if (typeof Jupyter !== \"undefined\") { window.__context = { glowscript_container: $(\"#glowscript\").removeAttr(\"id\")};}else{ element.textContent = ' ';}"
      ],
      "text/plain": [
       "<IPython.core.display.Javascript object>"
      ]
     },
     "metadata": {},
     "output_type": "display_data"
    }
   ],
   "source": [
    "canvas() \n",
    "box(pos=vector(0,0,-1),size=vector(5,5,0.5),color=color.red,opacity = 0.4)\n",
    "particle = sphere(pos=vector(-5,0,-5),radius=0.3,color=color.cyan,make_trail = True)\n",
    "v = vector(0.5,0,0.5)\n",
    "delta_t = 0.05\n",
    "t = 0\n",
    "while t < 20:\n",
    "    rate(100)\n",
    "    particle.pos = particle.pos + v * delta_t\n",
    "    t = t + delta_t\n",
    "    # print(f\"t = {t}: pos = {particle.pos}\")\n"
   ]
  },
  {
   "cell_type": "markdown",
   "id": "4bbac54f",
   "metadata": {},
   "source": [
    "**Ejemplo 2**: Ejemplo mas completo tomado del siguiente [link](https://trinket.io/glowscript/2aff48ffd8)"
   ]
  },
  {
   "cell_type": "code",
   "execution_count": 17,
   "id": "6d0f64c8",
   "metadata": {},
   "outputs": [
    {
     "data": {
      "text/html": [
       "<div id=\"glowscript\" class=\"glowscript\"></div>"
      ],
      "text/plain": [
       "<IPython.core.display.HTML object>"
      ]
     },
     "metadata": {},
     "output_type": "display_data"
    },
    {
     "data": {
      "application/javascript": [
       "if (typeof Jupyter !== \"undefined\") { window.__context = { glowscript_container: $(\"#glowscript\").removeAttr(\"id\")};}else{ element.textContent = ' ';}"
      ],
      "text/plain": [
       "<IPython.core.display.Javascript object>"
      ]
     },
     "metadata": {},
     "output_type": "display_data"
    },
    {
     "name": "stdout",
     "output_type": "stream",
     "text": [
      "period =  14.94818619989853 years\n"
     ]
    }
   ],
   "source": [
    "scene = canvas() # This is needed in Jupyter notebook and lab to make programs easily rerunnable\n",
    "\n",
    "star = sphere( pos=vector(0,1.825e14,0), velocity=vector(1.5e6,0,0),\n",
    "               mass=4e30, radius=5e12, color=color.yellow, make_trail=True )\n",
    "black_hole = sphere( pos=vector(0,0,0), velocity=vector(0,0,0),\n",
    "                      mass=8.2e36, radius=5e12, color=vector(0.7,0.7,0.7),\n",
    "                      make_trail=True, force=vector(0,0,0) )\n",
    "\n",
    "scale = cylinder(size=vector(2.59e14,0.5e13,0.5e13),pos=vector(0,-1.5e14,0))\n",
    "label(text=\"10 light days\",pos=scale.pos+3*scale.size.y*vector(0,1,0),box=False,align=\"left\",opacity=0)\n",
    "\n",
    "theta = 0\n",
    "r0 = mag(star.pos-black_hole.pos)\n",
    "dr = 1e-4\n",
    "dt = 1e3\n",
    "time = 0\n",
    "\n",
    "### Don't change anything below here! ###\n",
    "\n",
    "def gforce(object1,object2):\n",
    "  # Calculate the gravitational force ON object1 FROM object2.\n",
    "  # STEP 1: Set the universal gravitational constant.\n",
    "  G = 6.67e-11\n",
    "  # STEP 2: Calculate the distance vector from object 2 to object 1.\n",
    "  distance = object2.pos - object1.pos\n",
    "  # STEP 3: Calculate the magnitude of the gravitational force ON object 1 FROM object 2.\n",
    "  force_mag = G*object1.mass*object2.mass/mag(distance)**2\n",
    "  # STEP 4: Use the hat function to turn this force magnitude into a vector.\n",
    "  force_vec = force_mag*hat(distance)\n",
    "  # # STEP 5: Create an arrow to visualize this force.\n",
    "  # scale = 0.07\n",
    "  # arrow( pos=object1.pos, axis=force_vec*scale, color=object2.color )\n",
    "  return force_vec\n",
    "\n",
    "while (theta < 2*pi or abs(r-r0)/r0 > dr):\n",
    "  rate(20000)\n",
    "  black_hole.force = gforce(black_hole,star)\n",
    "  star.force = gforce(star,black_hole)\n",
    "  black_hole.velocity += black_hole.force*dt/black_hole.mass\n",
    "  black_hole.pos += black_hole.velocity*dt\n",
    "  star.velocity += star.force*dt/star.mass\n",
    "  star.pos += (star.velocity)*dt\n",
    "  time += dt\n",
    "  \n",
    "  theta += mag(star.velocity-black_hole.velocity)/mag(star.pos-black_hole.pos)*dt\n",
    "  r = mag(star.pos-black_hole.pos)\n",
    "  # blue_ke = 0.5*black_hole.mass*mag(black_hole.velocity)**2\n",
    "  # grav_pe = -black_hole.mass*star.mass/mag(black_hole.pos-star.pos)\n",
    "  # blue_kinetic_curve.plot(time,blue_ke)\n",
    "  # potential_curve.plot(time,grav_pe)\n",
    "  # energy_curve.plot(time,blue_ke+grav_pe)\n",
    "\n",
    "print(\"period = \",time/3.1536e7,\"years\")\n",
    "\n"
   ]
  },
  {
   "cell_type": "markdown",
   "id": "2780c561",
   "metadata": {},
   "source": [
    "## Referencias\n",
    "\n",
    "* https://github.com/dantrica/Electrostatics\n",
    "* https://iopscience.iop.org/article/10.1088/1742-6596/1247/1/012044/pdf\n",
    "* https://www.vpython.org/\n",
    "* https://matterandinteractions.org/computational-physics-books-using-python-vpython/\n",
    "* https://www.wired.com/2016/01/use-code-to-create-sweet-3-d-visualizations-of-electric-fields/\n",
    "* https://www.wired.com/2015/03/glowscript-tutorial-8-gravity-orbits/\n",
    "* https://indico.fnal.gov/event/49675/sessions/18691/attachments/144955/184370/Electric%20Field%20of%20a%20Point%20Charge%20with%20VPython.pdf\n",
    "* https://indico.fnal.gov/event/49675/sessions/18691/attachments/144955/\n",
    "* https://indico.fnal.gov/event/49675/timetable/#20210706\n",
    "* https://glowscript.org/\n",
    "* https://materias.df.uba.ar/ft2a2021c1/vpython-para-gente-apurada/\n",
    "* https://vpython.org/\n",
    "* https://www.glowscript.org/docs/VPythonDocs/videos.html\n",
    "* https://www.glowscript.org/docs/VPythonDocs/VisualIntro.html\n"
   ]
  }
 ],
 "metadata": {
  "kernelspec": {
   "display_name": "Python 3 (ipykernel)",
   "language": "python",
   "name": "python3"
  },
  "language_info": {
   "codemirror_mode": {
    "name": "ipython",
    "version": 3
   },
   "file_extension": ".py",
   "mimetype": "text/x-python",
   "name": "python",
   "nbconvert_exporter": "python",
   "pygments_lexer": "ipython3",
   "version": "3.9.13"
  }
 },
 "nbformat": 4,
 "nbformat_minor": 5
}
